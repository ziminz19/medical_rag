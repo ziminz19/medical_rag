{
 "cells": [
  {
   "cell_type": "code",
   "execution_count": 3,
   "metadata": {},
   "outputs": [],
   "source": [
    "from pdf_utils import MedicalPaperPreprocessor"
   ]
  },
  {
   "cell_type": "markdown",
   "metadata": {},
   "source": [
    "## Initialize the paper PDF preprecessor"
   ]
  },
  {
   "cell_type": "code",
   "execution_count": 4,
   "metadata": {},
   "outputs": [],
   "source": [
    "preprocessor = MedicalPaperPreprocessor(pdf_dir=\"papers\", chunk_size_tokens=500, overlap_tokens=50)"
   ]
  },
  {
   "cell_type": "markdown",
   "metadata": {},
   "source": [
    "## Process all PDFs to get text chunks"
   ]
  },
  {
   "cell_type": "code",
   "execution_count": 5,
   "metadata": {},
   "outputs": [],
   "source": [
    "all_chunks = preprocessor.process_all_pdfs()"
   ]
  },
  {
   "cell_type": "markdown",
   "metadata": {},
   "source": [
    "## Save the chunks to a JSON file"
   ]
  },
  {
   "cell_type": "code",
   "execution_count": 6,
   "metadata": {},
   "outputs": [
    {
     "name": "stdout",
     "output_type": "stream",
     "text": [
      "Processed 2 PDFs and saved 28 chunks to 'pdf_chunks.json'.\n"
     ]
    }
   ],
   "source": [
    "preprocessor.save_chunks_to_json(\"pdf_chunks.json\", all_chunks)\n",
    "print(f\"Processed {len(preprocessor.pdf_files)} PDFs and saved {len(all_chunks)} chunks to 'pdf_chunks.json'.\")"
   ]
  }
 ],
 "metadata": {
  "kernelspec": {
   "display_name": "medical_rag",
   "language": "python",
   "name": "python3"
  },
  "language_info": {
   "codemirror_mode": {
    "name": "ipython",
    "version": 3
   },
   "file_extension": ".py",
   "mimetype": "text/x-python",
   "name": "python",
   "nbconvert_exporter": "python",
   "pygments_lexer": "ipython3",
   "version": "3.10.16"
  }
 },
 "nbformat": 4,
 "nbformat_minor": 2
}
